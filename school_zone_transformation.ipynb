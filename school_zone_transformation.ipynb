{
 "cells": [
  {
   "cell_type": "markdown",
   "metadata": {},
   "source": [
    "# Classification of Flood&Crime Dataset  Using KNN\n",
    "## Training dataset = School Ratings Data"
   ]
  },
  {
   "cell_type": "code",
   "execution_count": 1,
   "metadata": {},
   "outputs": [],
   "source": [
    "import pandas as pd\n",
    "import numpy as np\n",
    "import matplotlib.pyplot as plt\n",
    "from sklearn.neighbors import KNeighborsClassifier\n",
    "import os"
   ]
  },
  {
   "cell_type": "code",
   "execution_count": 2,
   "metadata": {},
   "outputs": [
    {
     "name": "stdout",
     "output_type": "stream",
     "text": [
      "<class 'pandas.core.frame.DataFrame'>\n",
      "RangeIndex: 822 entries, 0 to 821\n",
      "Data columns (total 10 columns):\n",
      " #   Column         Non-Null Count  Dtype  \n",
      "---  ------         --------------  -----  \n",
      " 0   school_id      822 non-null    int64  \n",
      " 1   name           822 non-null    object \n",
      " 2   address        822 non-null    object \n",
      " 3   city           822 non-null    object \n",
      " 4   zip_code       822 non-null    int64  \n",
      " 5   school_type    822 non-null    object \n",
      " 6   latitude       822 non-null    float64\n",
      " 7   longitude      822 non-null    float64\n",
      " 8   school_rating  822 non-null    float64\n",
      " 9   district_id    822 non-null    float64\n",
      "dtypes: float64(4), int64(2), object(4)\n",
      "memory usage: 64.3+ KB\n"
     ]
    }
   ],
   "source": [
    "# read school data file and make into a DataFrame\n",
    "schools_file = pd.read_csv('Output/school_ratings.csv')\n",
    "school_ratings_df = pd.DataFrame(schools_file)\n",
    "school_ratings_df.info()"
   ]
  },
  {
   "cell_type": "code",
   "execution_count": 3,
   "metadata": {},
   "outputs": [
    {
     "name": "stdout",
     "output_type": "stream",
     "text": [
      "<class 'pandas.core.frame.DataFrame'>\n",
      "RangeIndex: 23230 entries, 0 to 23229\n",
      "Data columns (total 7 columns):\n",
      " #   Column             Non-Null Count  Dtype  \n",
      "---  ------             --------------  -----  \n",
      " 0   Unnamed: 0         23230 non-null  int64  \n",
      " 1   Address            23230 non-null  object \n",
      " 2   Latitude           23230 non-null  float64\n",
      " 3   Longitude          23230 non-null  float64\n",
      " 4   Flood_Description  19160 non-null  object \n",
      " 5   Flood_Zone         23230 non-null  object \n",
      " 6   Zip_Code           23230 non-null  int64  \n",
      "dtypes: float64(2), int64(2), object(3)\n",
      "memory usage: 1.2+ MB\n"
     ]
    }
   ],
   "source": [
    "# read the file with flood data\n",
    "flood_data = pd.read_csv('Resources/flood_data.csv')\n",
    "flood_data_df = pd.DataFrame(flood_data)\n",
    "flood_data_df.info()"
   ]
  },
  {
   "cell_type": "code",
   "execution_count": 4,
   "metadata": {},
   "outputs": [],
   "source": [
    "# Delete the Unnamed Column\n",
    "del flood_data_df['Unnamed: 0']"
   ]
  },
  {
   "cell_type": "markdown",
   "metadata": {},
   "source": [
    "## Zoning for elementary public schools"
   ]
  },
  {
   "cell_type": "code",
   "execution_count": 5,
   "metadata": {},
   "outputs": [],
   "source": [
    "# training dataset for elementary public schools\n",
    "elem_pub = school_ratings_df.loc[school_ratings_df['school_type']=='Elementary',:]"
   ]
  },
  {
   "cell_type": "code",
   "execution_count": 6,
   "metadata": {},
   "outputs": [
    {
     "data": {
      "text/plain": [
       "KNeighborsClassifier(algorithm='auto', leaf_size=30, metric='minkowski',\n",
       "                     metric_params=None, n_jobs=None, n_neighbors=1, p=2,\n",
       "                     weights='uniform')"
      ]
     },
     "execution_count": 6,
     "metadata": {},
     "output_type": "execute_result"
    }
   ],
   "source": [
    "# elementary public schools classifier\n",
    "elem_pub_classifier = KNeighborsClassifier(n_neighbors=1)\n",
    "elem_pub_classifier.fit(elem_pub.loc[:,[\"latitude\",\"longitude\"]],elem_pub[\"school_id\"])"
   ]
  },
  {
   "cell_type": "code",
   "execution_count": 7,
   "metadata": {},
   "outputs": [
    {
     "data": {
      "text/plain": [
       "0.9817850637522769"
      ]
     },
     "execution_count": 7,
     "metadata": {},
     "output_type": "execute_result"
    }
   ],
   "source": [
    "elem_pub_classifier.score(elem_pub.loc[:,[\"latitude\",\"longitude\"]],elem_pub[\"school_id\"])"
   ]
  },
  {
   "cell_type": "code",
   "execution_count": 8,
   "metadata": {},
   "outputs": [],
   "source": [
    "# elementary public schools classification results\n",
    "elem_pub_pred = elem_pub_classifier.predict(flood_data_df.loc[:,['Latitude','Longitude']])"
   ]
  },
  {
   "cell_type": "markdown",
   "metadata": {},
   "source": [
    "## Zoning for public middle schools"
   ]
  },
  {
   "cell_type": "code",
   "execution_count": 9,
   "metadata": {},
   "outputs": [],
   "source": [
    "# training dataset for public middle schools\n",
    "middle_pub = school_ratings_df.loc[school_ratings_df['school_type']=='Middle',:]"
   ]
  },
  {
   "cell_type": "code",
   "execution_count": 10,
   "metadata": {},
   "outputs": [
    {
     "data": {
      "text/plain": [
       "KNeighborsClassifier(algorithm='auto', leaf_size=30, metric='minkowski',\n",
       "                     metric_params=None, n_jobs=None, n_neighbors=1, p=2,\n",
       "                     weights='uniform')"
      ]
     },
     "execution_count": 10,
     "metadata": {},
     "output_type": "execute_result"
    }
   ],
   "source": [
    "# public middle schools classifier\n",
    "middle_pub_classifier = KNeighborsClassifier(n_neighbors=1)\n",
    "middle_pub_classifier.fit(middle_pub.loc[:,[\"latitude\",\"longitude\"]],middle_pub[\"school_id\"])"
   ]
  },
  {
   "cell_type": "code",
   "execution_count": 11,
   "metadata": {},
   "outputs": [
    {
     "data": {
      "text/plain": [
       "0.9942528735632183"
      ]
     },
     "execution_count": 11,
     "metadata": {},
     "output_type": "execute_result"
    }
   ],
   "source": [
    "middle_pub_classifier.score(middle_pub.loc[:,[\"latitude\",\"longitude\"]],middle_pub[\"school_id\"])"
   ]
  },
  {
   "cell_type": "code",
   "execution_count": 12,
   "metadata": {},
   "outputs": [],
   "source": [
    "# public middle schools classification results\n",
    "middle_pub_pred = middle_pub_classifier.predict(flood_data_df.loc[:,['Latitude','Longitude']])"
   ]
  },
  {
   "cell_type": "markdown",
   "metadata": {},
   "source": [
    "## Zoning for public high schools"
   ]
  },
  {
   "cell_type": "code",
   "execution_count": 13,
   "metadata": {},
   "outputs": [],
   "source": [
    "# training dataset for public high schools\n",
    "high_pub = school_ratings_df.loc[school_ratings_df['school_type']=='High',:]"
   ]
  },
  {
   "cell_type": "code",
   "execution_count": 14,
   "metadata": {},
   "outputs": [
    {
     "data": {
      "text/plain": [
       "KNeighborsClassifier(algorithm='auto', leaf_size=30, metric='minkowski',\n",
       "                     metric_params=None, n_jobs=None, n_neighbors=1, p=2,\n",
       "                     weights='uniform')"
      ]
     },
     "execution_count": 14,
     "metadata": {},
     "output_type": "execute_result"
    }
   ],
   "source": [
    "# public high schools classifier\n",
    "high_pub_classifier = KNeighborsClassifier(n_neighbors=1)\n",
    "high_pub_classifier.fit(high_pub.loc[:,[\"latitude\",\"longitude\"]],high_pub[\"school_id\"])"
   ]
  },
  {
   "cell_type": "code",
   "execution_count": 15,
   "metadata": {},
   "outputs": [
    {
     "data": {
      "text/plain": [
       "1.0"
      ]
     },
     "execution_count": 15,
     "metadata": {},
     "output_type": "execute_result"
    }
   ],
   "source": [
    "high_pub_classifier.score(high_pub.loc[:,[\"latitude\",\"longitude\"]],high_pub[\"school_id\"])"
   ]
  },
  {
   "cell_type": "code",
   "execution_count": 16,
   "metadata": {},
   "outputs": [],
   "source": [
    "# public high schools classification results\n",
    "high_pub_pred = high_pub_classifier.predict(flood_data_df.loc[:,['Latitude','Longitude']])"
   ]
  },
  {
   "cell_type": "markdown",
   "metadata": {},
   "source": [
    "## Adding classification and school ratings to main dataframe"
   ]
  },
  {
   "cell_type": "code",
   "execution_count": 17,
   "metadata": {},
   "outputs": [],
   "source": [
    "# create a separate copy of the dataframe for each school type\n",
    "elem_schools = flood_data_df.copy()"
   ]
  },
  {
   "cell_type": "code",
   "execution_count": 18,
   "metadata": {},
   "outputs": [
    {
     "name": "stdout",
     "output_type": "stream",
     "text": [
      "<class 'pandas.core.frame.DataFrame'>\n",
      "RangeIndex: 23230 entries, 0 to 23229\n",
      "Data columns (total 8 columns):\n",
      " #   Column             Non-Null Count  Dtype  \n",
      "---  ------             --------------  -----  \n",
      " 0   Address            23230 non-null  object \n",
      " 1   Latitude           23230 non-null  float64\n",
      " 2   Longitude          23230 non-null  float64\n",
      " 3   Flood_Description  19160 non-null  object \n",
      " 4   Flood_Zone         23230 non-null  object \n",
      " 5   Zip_Code           23230 non-null  int64  \n",
      " 6   school_id          23230 non-null  int64  \n",
      " 7   school_type        23230 non-null  object \n",
      "dtypes: float64(2), int64(2), object(4)\n",
      "memory usage: 1.4+ MB\n"
     ]
    }
   ],
   "source": [
    "elem_schools[\"school_id\"] = elem_pub_pred\n",
    "elem_schools['school_type'] = 'Elementary'\n",
    "elem_schools.info()"
   ]
  },
  {
   "cell_type": "code",
   "execution_count": 19,
   "metadata": {},
   "outputs": [],
   "source": [
    "middle_schools = flood_data_df.copy()"
   ]
  },
  {
   "cell_type": "code",
   "execution_count": 20,
   "metadata": {},
   "outputs": [
    {
     "name": "stdout",
     "output_type": "stream",
     "text": [
      "<class 'pandas.core.frame.DataFrame'>\n",
      "RangeIndex: 23230 entries, 0 to 23229\n",
      "Data columns (total 8 columns):\n",
      " #   Column             Non-Null Count  Dtype  \n",
      "---  ------             --------------  -----  \n",
      " 0   Address            23230 non-null  object \n",
      " 1   Latitude           23230 non-null  float64\n",
      " 2   Longitude          23230 non-null  float64\n",
      " 3   Flood_Description  19160 non-null  object \n",
      " 4   Flood_Zone         23230 non-null  object \n",
      " 5   Zip_Code           23230 non-null  int64  \n",
      " 6   school_id          23230 non-null  int64  \n",
      " 7   school_type        23230 non-null  object \n",
      "dtypes: float64(2), int64(2), object(4)\n",
      "memory usage: 1.4+ MB\n"
     ]
    }
   ],
   "source": [
    "middle_schools[\"school_id\"] = middle_pub_pred\n",
    "middle_schools['school_type'] = 'Middle'\n",
    "middle_schools.info()"
   ]
  },
  {
   "cell_type": "code",
   "execution_count": 21,
   "metadata": {},
   "outputs": [],
   "source": [
    "high_schools = flood_data_df.copy()"
   ]
  },
  {
   "cell_type": "code",
   "execution_count": 22,
   "metadata": {},
   "outputs": [
    {
     "name": "stdout",
     "output_type": "stream",
     "text": [
      "<class 'pandas.core.frame.DataFrame'>\n",
      "RangeIndex: 23230 entries, 0 to 23229\n",
      "Data columns (total 8 columns):\n",
      " #   Column             Non-Null Count  Dtype  \n",
      "---  ------             --------------  -----  \n",
      " 0   Address            23230 non-null  object \n",
      " 1   Latitude           23230 non-null  float64\n",
      " 2   Longitude          23230 non-null  float64\n",
      " 3   Flood_Description  19160 non-null  object \n",
      " 4   Flood_Zone         23230 non-null  object \n",
      " 5   Zip_Code           23230 non-null  int64  \n",
      " 6   school_id          23230 non-null  int64  \n",
      " 7   school_type        23230 non-null  object \n",
      "dtypes: float64(2), int64(2), object(4)\n",
      "memory usage: 1.4+ MB\n"
     ]
    }
   ],
   "source": [
    "high_schools[\"school_id\"] = high_pub_pred\n",
    "high_schools['school_type'] = 'High'\n",
    "high_schools.info()"
   ]
  },
  {
   "cell_type": "code",
   "execution_count": 23,
   "metadata": {},
   "outputs": [],
   "source": [
    "# combine the three dataframes into one\n",
    "flood_school_data = elem_schools.append(middle_schools, ignore_index=True)"
   ]
  },
  {
   "cell_type": "code",
   "execution_count": 24,
   "metadata": {},
   "outputs": [
    {
     "name": "stdout",
     "output_type": "stream",
     "text": [
      "<class 'pandas.core.frame.DataFrame'>\n",
      "RangeIndex: 69690 entries, 0 to 69689\n",
      "Data columns (total 8 columns):\n",
      " #   Column             Non-Null Count  Dtype  \n",
      "---  ------             --------------  -----  \n",
      " 0   Address            69690 non-null  object \n",
      " 1   Latitude           69690 non-null  float64\n",
      " 2   Longitude          69690 non-null  float64\n",
      " 3   Flood_Description  57480 non-null  object \n",
      " 4   Flood_Zone         69690 non-null  object \n",
      " 5   Zip_Code           69690 non-null  int64  \n",
      " 6   school_id          69690 non-null  int64  \n",
      " 7   school_type        69690 non-null  object \n",
      "dtypes: float64(2), int64(2), object(4)\n",
      "memory usage: 4.3+ MB\n"
     ]
    }
   ],
   "source": [
    "flood_school_data = flood_school_data.append(high_schools, ignore_index=True)\n",
    "flood_school_data.info()"
   ]
  },
  {
   "cell_type": "code",
   "execution_count": 30,
   "metadata": {},
   "outputs": [],
   "source": [
    "flood_school_data.to_csv(\"Output/flood_data_and_school_id.csv\", index=False)"
   ]
  },
  {
   "cell_type": "code",
   "execution_count": 26,
   "metadata": {},
   "outputs": [
    {
     "data": {
      "text/html": [
       "<div>\n",
       "<style scoped>\n",
       "    .dataframe tbody tr th:only-of-type {\n",
       "        vertical-align: middle;\n",
       "    }\n",
       "\n",
       "    .dataframe tbody tr th {\n",
       "        vertical-align: top;\n",
       "    }\n",
       "\n",
       "    .dataframe thead th {\n",
       "        text-align: right;\n",
       "    }\n",
       "</style>\n",
       "<table border=\"1\" class=\"dataframe\">\n",
       "  <thead>\n",
       "    <tr style=\"text-align: right;\">\n",
       "      <th></th>\n",
       "      <th>Address</th>\n",
       "      <th>Latitude</th>\n",
       "      <th>Longitude</th>\n",
       "      <th>Flood_Description</th>\n",
       "      <th>Flood_Zone</th>\n",
       "      <th>Zip_Code</th>\n",
       "      <th>school_id</th>\n",
       "      <th>school_type</th>\n",
       "    </tr>\n",
       "  </thead>\n",
       "  <tbody>\n",
       "    <tr>\n",
       "      <th>0</th>\n",
       "      <td>2202 CAROLINE ST Houston, Texas 77002</td>\n",
       "      <td>29.74614</td>\n",
       "      <td>-95.36987</td>\n",
       "      <td>AREA OF MINIMAL FLOOD HAZARD</td>\n",
       "      <td>X</td>\n",
       "      <td>77002</td>\n",
       "      <td>101912110</td>\n",
       "      <td>Elementary</td>\n",
       "    </tr>\n",
       "    <tr>\n",
       "      <th>1</th>\n",
       "      <td>2204 CAROLINE ST Houston, Texas 77002</td>\n",
       "      <td>29.74619</td>\n",
       "      <td>-95.36996</td>\n",
       "      <td>AREA OF MINIMAL FLOOD HAZARD</td>\n",
       "      <td>X</td>\n",
       "      <td>77002</td>\n",
       "      <td>101912110</td>\n",
       "      <td>Elementary</td>\n",
       "    </tr>\n",
       "    <tr>\n",
       "      <th>2</th>\n",
       "      <td>2206 CAROLINE ST Houston, Texas 77002</td>\n",
       "      <td>29.74624</td>\n",
       "      <td>-95.37004</td>\n",
       "      <td>AREA OF MINIMAL FLOOD HAZARD</td>\n",
       "      <td>X</td>\n",
       "      <td>77002</td>\n",
       "      <td>101912058</td>\n",
       "      <td>Elementary</td>\n",
       "    </tr>\n",
       "    <tr>\n",
       "      <th>3</th>\n",
       "      <td>2251 AUSTIN ST Houston, Texas 77002</td>\n",
       "      <td>29.74530</td>\n",
       "      <td>-95.36882</td>\n",
       "      <td>AREA OF MINIMAL FLOOD HAZARD</td>\n",
       "      <td>X</td>\n",
       "      <td>77002</td>\n",
       "      <td>101912110</td>\n",
       "      <td>Elementary</td>\n",
       "    </tr>\n",
       "    <tr>\n",
       "      <th>4</th>\n",
       "      <td>2255 AUSTIN ST Houston, Texas 77002</td>\n",
       "      <td>29.74525</td>\n",
       "      <td>-95.36874</td>\n",
       "      <td>AREA OF MINIMAL FLOOD HAZARD</td>\n",
       "      <td>X</td>\n",
       "      <td>77002</td>\n",
       "      <td>101912110</td>\n",
       "      <td>Elementary</td>\n",
       "    </tr>\n",
       "  </tbody>\n",
       "</table>\n",
       "</div>"
      ],
      "text/plain": [
       "                                 Address  Latitude  Longitude  \\\n",
       "0  2202 CAROLINE ST Houston, Texas 77002  29.74614  -95.36987   \n",
       "1  2204 CAROLINE ST Houston, Texas 77002  29.74619  -95.36996   \n",
       "2  2206 CAROLINE ST Houston, Texas 77002  29.74624  -95.37004   \n",
       "3    2251 AUSTIN ST Houston, Texas 77002  29.74530  -95.36882   \n",
       "4    2255 AUSTIN ST Houston, Texas 77002  29.74525  -95.36874   \n",
       "\n",
       "              Flood_Description Flood_Zone  Zip_Code  school_id school_type  \n",
       "0  AREA OF MINIMAL FLOOD HAZARD          X     77002  101912110  Elementary  \n",
       "1  AREA OF MINIMAL FLOOD HAZARD          X     77002  101912110  Elementary  \n",
       "2  AREA OF MINIMAL FLOOD HAZARD          X     77002  101912058  Elementary  \n",
       "3  AREA OF MINIMAL FLOOD HAZARD          X     77002  101912110  Elementary  \n",
       "4  AREA OF MINIMAL FLOOD HAZARD          X     77002  101912110  Elementary  "
      ]
     },
     "execution_count": 26,
     "metadata": {},
     "output_type": "execute_result"
    }
   ],
   "source": [
    "flood_school_data.head()"
   ]
  }
 ],
 "metadata": {
  "kernelspec": {
   "display_name": "Python [conda env:PythonData] *",
   "language": "python",
   "name": "conda-env-PythonData-py"
  },
  "language_info": {
   "codemirror_mode": {
    "name": "ipython",
    "version": 3
   },
   "file_extension": ".py",
   "mimetype": "text/x-python",
   "name": "python",
   "nbconvert_exporter": "python",
   "pygments_lexer": "ipython3",
   "version": "3.8.3"
  }
 },
 "nbformat": 4,
 "nbformat_minor": 4
}
