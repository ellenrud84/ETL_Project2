{
 "cells": [
  {
   "cell_type": "markdown",
   "metadata": {},
   "source": [
    "1.Extract Data from HCAD for Real_Acct Table, multiple years:"
   ]
  },
  {
   "cell_type": "code",
   "execution_count": 5,
   "metadata": {},
   "outputs": [
    {
     "ename": "ModuleNotFoundError",
     "evalue": "No module named 'secret'",
     "output_type": "error",
     "traceback": [
      "\u001b[1;31m---------------------------------------------------------------------------\u001b[0m",
      "\u001b[1;31mModuleNotFoundError\u001b[0m                       Traceback (most recent call last)",
      "\u001b[1;32m<ipython-input-5-98fb5266170e>\u001b[0m in \u001b[0;36m<module>\u001b[1;34m\u001b[0m\n\u001b[0;32m      6\u001b[0m \u001b[1;32mimport\u001b[0m \u001b[0mpandas\u001b[0m \u001b[1;32mas\u001b[0m \u001b[0mpd\u001b[0m\u001b[1;33m\u001b[0m\u001b[1;33m\u001b[0m\u001b[0m\n\u001b[0;32m      7\u001b[0m \u001b[1;32mfrom\u001b[0m \u001b[0msqlalchemy\u001b[0m \u001b[1;32mimport\u001b[0m \u001b[0mcreate_engine\u001b[0m\u001b[1;33m\u001b[0m\u001b[1;33m\u001b[0m\u001b[0m\n\u001b[1;32m----> 8\u001b[1;33m \u001b[1;32mfrom\u001b[0m \u001b[0msecret\u001b[0m \u001b[1;32mimport\u001b[0m \u001b[0musername\u001b[0m\u001b[1;33m,\u001b[0m \u001b[0mpassword\u001b[0m\u001b[1;33m\u001b[0m\u001b[1;33m\u001b[0m\u001b[0m\n\u001b[0m",
      "\u001b[1;31mModuleNotFoundError\u001b[0m: No module named 'secret'"
     ]
    }
   ],
   "source": [
    "# Import dependency modules:\n",
    "import pandas as pd\n",
    "import csv\n",
    "import zipfile\n",
    "import numpy as np\n",
    "import pandas as pd\n",
    "from sqlalchemy import create_engine\n",
    "from secret import username, password"
   ]
  },
  {
   "cell_type": "markdown",
   "metadata": {},
   "source": [
    "define file name/ path \n",
    "reference: hhttps://www.simplifiedpython.net/python-zip-file-example/"
   ]
  },
  {
   "cell_type": "code",
   "execution_count": 6,
   "metadata": {},
   "outputs": [],
   "source": [
    "zip2018 = \"Resources/2018 files.zip\"\n",
    "zip2019= \"Resources/2019 files.zip\""
   ]
  },
  {
   "cell_type": "markdown",
   "metadata": {},
   "source": [
    "1a. Unzip 2018 real_acct.txt"
   ]
  },
  {
   "cell_type": "code",
   "execution_count": 7,
   "metadata": {},
   "outputs": [
    {
     "name": "stdout",
     "output_type": "stream",
     "text": [
      "Extracting one file...\n",
      "Extracting Done!\n"
     ]
    }
   ],
   "source": [
    "my_zipfile_2018 = zipfile.ZipFile(zip2018, mode='r')\n",
    "\n",
    "print('Extracting one file...')\n",
    "my_zipfile_2018.extract(\"2018 files/real_acct.txt\")\n",
    "\n",
    "print('Extracting Done!')\n",
    "my_zipfile_2018.close()"
   ]
  },
  {
   "cell_type": "markdown",
   "metadata": {},
   "source": [
    "1b. Unzip 2019 real_acct.txt"
   ]
  },
  {
   "cell_type": "code",
   "execution_count": 8,
   "metadata": {},
   "outputs": [
    {
     "name": "stdout",
     "output_type": "stream",
     "text": [
      "Extracting one file...\n",
      "Extracting Done!\n"
     ]
    }
   ],
   "source": [
    "my_zipfile_2019 = zipfile.ZipFile(zip2019, mode='r')\n",
    "\n",
    "#Open the zip file in read mode\n",
    "print('Extracting one file...')\n",
    "my_zipfile_2019.extract(\"2019 files/real_acct.txt\")\n",
    "\n",
    "print('Extracting Done!')\n",
    "my_zipfile_2019.close()\n"
   ]
  },
  {
   "cell_type": "code",
   "execution_count": 9,
   "metadata": {},
   "outputs": [],
   "source": [
    "#Define field names as specified from HCAD  Real Account documentation\n",
    "\n",
    "field_names_real_acct=[\"ACCOUNT\",\"TAX_YEAR\",\"MAILTO\",\"MAIL_ADDR_1\",\"MAIL_ADDR_2\",\"MAIL_CITY\",\"MAIL_STATE\",\"MAIL_ZIP\",\\\n",
    "                       \"MAIL_COUNTRY\",\"UNDELIVERABLE\",\"STR_PFX\",\"STR_NUM\",\"STR_NUM_SFX\", \"STR_NAME\",\"STR_SFX\",\"STR_SFX_DIR\",\\\n",
    "                       \"STR_UNIT\",\"SITE_ADDR_1\",\"SITE_ADDR_2\", \"SITE_ADDR_3\",\"STATE_CLASS\",\"SCHOOL_DIST\",\"MAP_FACET\",\\\n",
    "                       \"KEY_MAP\",\"NEIGHBORHOOD_CODE\",\"NEIGHBORHOOD_GROUP\",\"MARKET_AREA_1\",\"MARKET_AREA_1_DSCR\",\\\n",
    "                       \"MARKET_AREA_2\",\"MARKET_AREA_2_DSCR\",\"ECON_AREA\",\"ECON_BLD_CLASS\",\"CENTER_CODE\", \"YR_IMPR\",\\\n",
    "                       \"YR_ANNEXED\",\"SPLT_DT\",\"DSC_CD\",\"NXT_BUILDING\",\"TOTAL_BUILDING_AREA\",\"TOTAL_LAND_AREA\",\\\n",
    "                       \"ACREAGE\",\"CAP_ACCOUNT\",\"SHARED_CAD_CODE\",\"LAND_VALUE\",\"IMPROVEMENT_VALUE\",\"EXTRA_FEATURES_VALUE\",\\\n",
    "                       \"AG_VALUE\",\"ASSESSED_VALUE\",\"TOTAL_APPRAISED_VALUE\",\"TOTAL_MARKET_VALUE\", \"PRIOR_LND_VALUE\",\\\n",
    "                       \"PRIOR_IMPR_VALUE\",\"PRIOR_X_FEATURES_VALUE\",\"PRIOR_AG_VALUE\",\"PRIOR_TOTAL_APPRAISED_VALUE\",\\\n",
    "                       \"PRIOR_TOTAL_MARKET_VALUE\",\"NEW_CONSTRUCTION_VALUE\",\"TOTAL_RCN_VALUE\",\"VALUE_STATUS\",\"NOTICED\",\\\n",
    "                       \"NOTICE_DATE\",\"PROTESTED\",\"CERTIFIED_DATE\",\"LAST_INSPECTED_DATE\",\"LAST_INSPECTED_BY\",\\\n",
    "                       \"NEW_OWNER_DATE\",\"LEGAL_DSCR_1\",\"LEGAL_DSCR_2\",\"LEGAL_DSCR_3\",\"LEGAL_DSCR_4\",\"JURS\"]\n"
   ]
  },
  {
   "cell_type": "code",
   "execution_count": 10,
   "metadata": {},
   "outputs": [
    {
     "data": {
      "text/html": [
       "<div>\n",
       "<style scoped>\n",
       "    .dataframe tbody tr th:only-of-type {\n",
       "        vertical-align: middle;\n",
       "    }\n",
       "\n",
       "    .dataframe tbody tr th {\n",
       "        vertical-align: top;\n",
       "    }\n",
       "\n",
       "    .dataframe thead th {\n",
       "        text-align: right;\n",
       "    }\n",
       "</style>\n",
       "<table border=\"1\" class=\"dataframe\">\n",
       "  <thead>\n",
       "    <tr style=\"text-align: right;\">\n",
       "      <th></th>\n",
       "      <th>ACCOUNT</th>\n",
       "      <th>TAX_YEAR</th>\n",
       "      <th>MAILTO</th>\n",
       "      <th>MAIL_ADDR_1</th>\n",
       "      <th>MAIL_ADDR_2</th>\n",
       "      <th>MAIL_CITY</th>\n",
       "      <th>MAIL_STATE</th>\n",
       "      <th>MAIL_ZIP</th>\n",
       "      <th>MAIL_COUNTRY</th>\n",
       "      <th>UNDELIVERABLE</th>\n",
       "      <th>...</th>\n",
       "      <th>PROTESTED</th>\n",
       "      <th>CERTIFIED_DATE</th>\n",
       "      <th>LAST_INSPECTED_DATE</th>\n",
       "      <th>LAST_INSPECTED_BY</th>\n",
       "      <th>NEW_OWNER_DATE</th>\n",
       "      <th>LEGAL_DSCR_1</th>\n",
       "      <th>LEGAL_DSCR_2</th>\n",
       "      <th>LEGAL_DSCR_3</th>\n",
       "      <th>LEGAL_DSCR_4</th>\n",
       "      <th>JURS</th>\n",
       "    </tr>\n",
       "  </thead>\n",
       "  <tbody>\n",
       "    <tr>\n",
       "      <th>983070</th>\n",
       "      <td>1169810010008</td>\n",
       "      <td>2018</td>\n",
       "      <td>WOOD JOHN G</td>\n",
       "      <td>6315 KINGSCREST LN</td>\n",
       "      <td></td>\n",
       "      <td>SPRING</td>\n",
       "      <td>TX</td>\n",
       "      <td>77389-4930</td>\n",
       "      <td></td>\n",
       "      <td>N</td>\n",
       "      <td>...</td>\n",
       "      <td>N</td>\n",
       "      <td>2018-08-10 00:00:00.000</td>\n",
       "      <td>2013-01-01 00:00:00.000</td>\n",
       "      <td>01490</td>\n",
       "      <td>2015-06-24 00:00:00.000</td>\n",
       "      <td>LT 8 BLK 1</td>\n",
       "      <td>NORTHAMPTON ESTATES PH 2</td>\n",
       "      <td></td>\n",
       "      <td></td>\n",
       "      <td>017 040 041 042 043 044 045 550 666 721</td>\n",
       "    </tr>\n",
       "    <tr>\n",
       "      <th>782521</th>\n",
       "      <td>1130050000011</td>\n",
       "      <td>2018</td>\n",
       "      <td>WILLIAMS ROBERT M</td>\n",
       "      <td>301 HEATHGATE DR</td>\n",
       "      <td></td>\n",
       "      <td>HOUSTON</td>\n",
       "      <td>TX</td>\n",
       "      <td>77062-2504</td>\n",
       "      <td></td>\n",
       "      <td>N</td>\n",
       "      <td>...</td>\n",
       "      <td>Y</td>\n",
       "      <td>2018-09-21 00:00:00.000</td>\n",
       "      <td>2017-01-01 00:00:00.000</td>\n",
       "      <td>01665</td>\n",
       "      <td>1990-07-25 00:00:00.000</td>\n",
       "      <td>LT 11 BLK 11</td>\n",
       "      <td>MEADOWGREEN SEC 2</td>\n",
       "      <td></td>\n",
       "      <td></td>\n",
       "      <td>027 040 041 042 043 044 061 142</td>\n",
       "    </tr>\n",
       "  </tbody>\n",
       "</table>\n",
       "<p>2 rows × 71 columns</p>\n",
       "</div>"
      ],
      "text/plain": [
       "                          ACCOUNT TAX_YEAR             MAILTO  \\\n",
       "983070  1169810010008                 2018        WOOD JOHN G   \n",
       "782521  1130050000011                 2018  WILLIAMS ROBERT M   \n",
       "\n",
       "               MAIL_ADDR_1 MAIL_ADDR_2 MAIL_CITY MAIL_STATE    MAIL_ZIP  \\\n",
       "983070  6315 KINGSCREST LN                SPRING         TX  77389-4930   \n",
       "782521    301 HEATHGATE DR               HOUSTON         TX  77062-2504   \n",
       "\n",
       "       MAIL_COUNTRY UNDELIVERABLE  ... PROTESTED           CERTIFIED_DATE  \\\n",
       "983070                          N  ...         N  2018-08-10 00:00:00.000   \n",
       "782521                          N  ...         Y  2018-09-21 00:00:00.000   \n",
       "\n",
       "            LAST_INSPECTED_DATE LAST_INSPECTED_BY           NEW_OWNER_DATE  \\\n",
       "983070  2013-01-01 00:00:00.000             01490  2015-06-24 00:00:00.000   \n",
       "782521  2017-01-01 00:00:00.000             01665  1990-07-25 00:00:00.000   \n",
       "\n",
       "        LEGAL_DSCR_1              LEGAL_DSCR_2 LEGAL_DSCR_3 LEGAL_DSCR_4  \\\n",
       "983070    LT 8 BLK 1  NORTHAMPTON ESTATES PH 2                             \n",
       "782521  LT 11 BLK 11         MEADOWGREEN SEC 2                             \n",
       "\n",
       "                                           JURS  \n",
       "983070  017 040 041 042 043 044 045 550 666 721  \n",
       "782521          027 040 041 042 043 044 061 142  \n",
       "\n",
       "[2 rows x 71 columns]"
      ]
     },
     "execution_count": 10,
     "metadata": {},
     "output_type": "execute_result"
    }
   ],
   "source": [
    "# Create DataFrame for 2018 Data:\n",
    "data=[]\n",
    "with open('2018 files/real_acct.txt','r')as txtfile:\n",
    "    csvreader=csv.reader(txtfile, delimiter = '\\t')\n",
    "    for row in csvreader:\n",
    "        data.append(row)\n",
    "real_account_2018=pd.DataFrame(columns=field_names_real_acct, data=data)\n",
    "real_account_2018.sample(2)"
   ]
  },
  {
   "cell_type": "code",
   "execution_count": 11,
   "metadata": {},
   "outputs": [
    {
     "data": {
      "text/html": [
       "<div>\n",
       "<style scoped>\n",
       "    .dataframe tbody tr th:only-of-type {\n",
       "        vertical-align: middle;\n",
       "    }\n",
       "\n",
       "    .dataframe tbody tr th {\n",
       "        vertical-align: top;\n",
       "    }\n",
       "\n",
       "    .dataframe thead th {\n",
       "        text-align: right;\n",
       "    }\n",
       "</style>\n",
       "<table border=\"1\" class=\"dataframe\">\n",
       "  <thead>\n",
       "    <tr style=\"text-align: right;\">\n",
       "      <th></th>\n",
       "      <th>ACCOUNT</th>\n",
       "      <th>TAX_YEAR</th>\n",
       "      <th>MAILTO</th>\n",
       "      <th>MAIL_ADDR_1</th>\n",
       "      <th>MAIL_ADDR_2</th>\n",
       "      <th>MAIL_CITY</th>\n",
       "      <th>MAIL_STATE</th>\n",
       "      <th>MAIL_ZIP</th>\n",
       "      <th>MAIL_COUNTRY</th>\n",
       "      <th>UNDELIVERABLE</th>\n",
       "      <th>...</th>\n",
       "      <th>PROTESTED</th>\n",
       "      <th>CERTIFIED_DATE</th>\n",
       "      <th>LAST_INSPECTED_DATE</th>\n",
       "      <th>LAST_INSPECTED_BY</th>\n",
       "      <th>NEW_OWNER_DATE</th>\n",
       "      <th>LEGAL_DSCR_1</th>\n",
       "      <th>LEGAL_DSCR_2</th>\n",
       "      <th>LEGAL_DSCR_3</th>\n",
       "      <th>LEGAL_DSCR_4</th>\n",
       "      <th>JURS</th>\n",
       "    </tr>\n",
       "  </thead>\n",
       "  <tbody>\n",
       "    <tr>\n",
       "      <th>0</th>\n",
       "      <td>0010010000013</td>\n",
       "      <td>2019</td>\n",
       "      <td>CITY OF HOUSTON</td>\n",
       "      <td>PO BOX 1562</td>\n",
       "      <td></td>\n",
       "      <td>HOUSTON</td>\n",
       "      <td>TX</td>\n",
       "      <td>77251-1562</td>\n",
       "      <td></td>\n",
       "      <td>N</td>\n",
       "      <td>...</td>\n",
       "      <td>N</td>\n",
       "      <td>2019-08-02 00:00:00.000</td>\n",
       "      <td>2016-01-01 00:00:00.000</td>\n",
       "      <td>01391</td>\n",
       "      <td>1988-01-02 00:00:00.000</td>\n",
       "      <td>ALL BLK 1</td>\n",
       "      <td>SSBB</td>\n",
       "      <td></td>\n",
       "      <td></td>\n",
       "      <td>001 040 041 042 043 044 048 061 265 268 576</td>\n",
       "    </tr>\n",
       "    <tr>\n",
       "      <th>1</th>\n",
       "      <td>0010020000001</td>\n",
       "      <td>2019</td>\n",
       "      <td>CURRENT OWNER</td>\n",
       "      <td>1717 SAINT JAMES PLACE STE 112</td>\n",
       "      <td></td>\n",
       "      <td>HOUSTON</td>\n",
       "      <td>TX</td>\n",
       "      <td>77056-3412</td>\n",
       "      <td></td>\n",
       "      <td>N</td>\n",
       "      <td>...</td>\n",
       "      <td>Y</td>\n",
       "      <td>2019-07-03 00:00:00.000</td>\n",
       "      <td>2017-11-17 14:58:10.597</td>\n",
       "      <td>00984</td>\n",
       "      <td>2012-10-31 00:00:00.000</td>\n",
       "      <td>TR 15 BLK 2</td>\n",
       "      <td>SSBB</td>\n",
       "      <td></td>\n",
       "      <td></td>\n",
       "      <td>001 040 041 042 043 044 048 061 265 268 576</td>\n",
       "    </tr>\n",
       "  </tbody>\n",
       "</table>\n",
       "<p>2 rows × 71 columns</p>\n",
       "</div>"
      ],
      "text/plain": [
       "                     ACCOUNT TAX_YEAR           MAILTO  \\\n",
       "0  0010010000013                 2019  CITY OF HOUSTON   \n",
       "1  0010020000001                 2019    CURRENT OWNER   \n",
       "\n",
       "                      MAIL_ADDR_1 MAIL_ADDR_2 MAIL_CITY MAIL_STATE  \\\n",
       "0                     PO BOX 1562               HOUSTON         TX   \n",
       "1  1717 SAINT JAMES PLACE STE 112               HOUSTON         TX   \n",
       "\n",
       "     MAIL_ZIP MAIL_COUNTRY UNDELIVERABLE  ... PROTESTED  \\\n",
       "0  77251-1562                          N  ...         N   \n",
       "1  77056-3412                          N  ...         Y   \n",
       "\n",
       "            CERTIFIED_DATE      LAST_INSPECTED_DATE LAST_INSPECTED_BY  \\\n",
       "0  2019-08-02 00:00:00.000  2016-01-01 00:00:00.000             01391   \n",
       "1  2019-07-03 00:00:00.000  2017-11-17 14:58:10.597             00984   \n",
       "\n",
       "            NEW_OWNER_DATE LEGAL_DSCR_1 LEGAL_DSCR_2 LEGAL_DSCR_3  \\\n",
       "0  1988-01-02 00:00:00.000    ALL BLK 1         SSBB                \n",
       "1  2012-10-31 00:00:00.000  TR 15 BLK 2         SSBB                \n",
       "\n",
       "  LEGAL_DSCR_4                                         JURS  \n",
       "0               001 040 041 042 043 044 048 061 265 268 576  \n",
       "1               001 040 041 042 043 044 048 061 265 268 576  \n",
       "\n",
       "[2 rows x 71 columns]"
      ]
     },
     "execution_count": 11,
     "metadata": {},
     "output_type": "execute_result"
    }
   ],
   "source": [
    "# Create DataFrame for 2019 Data:\n",
    "data=[]\n",
    "with open('2019 files/real_acct.txt','r')as txtfile:\n",
    "    csvreader=csv.reader(txtfile, delimiter = '\\t')\n",
    "    for row in csvreader:\n",
    "        data.append(row)\n",
    "real_account_2019=pd.DataFrame(columns=field_names_real_acct, data=data)\n",
    "real_account_2019.head(2)"
   ]
  },
  {
   "cell_type": "code",
   "execution_count": 14,
   "metadata": {},
   "outputs": [
    {
     "data": {
      "text/html": [
       "<div>\n",
       "<style scoped>\n",
       "    .dataframe tbody tr th:only-of-type {\n",
       "        vertical-align: middle;\n",
       "    }\n",
       "\n",
       "    .dataframe tbody tr th {\n",
       "        vertical-align: top;\n",
       "    }\n",
       "\n",
       "    .dataframe thead th {\n",
       "        text-align: right;\n",
       "    }\n",
       "</style>\n",
       "<table border=\"1\" class=\"dataframe\">\n",
       "  <thead>\n",
       "    <tr style=\"text-align: right;\">\n",
       "      <th></th>\n",
       "      <th>ACCOUNT</th>\n",
       "      <th>TAX_YEAR</th>\n",
       "      <th>SITE_ADDR_1</th>\n",
       "      <th>SITE_ADDR_2</th>\n",
       "      <th>SITE_ADDR_3</th>\n",
       "      <th>STATE_CLASS</th>\n",
       "      <th>NEIGHBORHOOD_CODE</th>\n",
       "      <th>NEIGHBORHOOD_GROUP</th>\n",
       "      <th>ACREAGE</th>\n",
       "      <th>TOTAL_APPRAISED_VALUE</th>\n",
       "    </tr>\n",
       "  </thead>\n",
       "  <tbody>\n",
       "    <tr>\n",
       "      <th>0</th>\n",
       "      <td>10010000013</td>\n",
       "      <td>2018</td>\n",
       "      <td>0 COMMERCE ST</td>\n",
       "      <td>HOUSTON</td>\n",
       "      <td>77002</td>\n",
       "      <td>X1</td>\n",
       "      <td>5900.05</td>\n",
       "      <td>0</td>\n",
       "      <td>1.0200</td>\n",
       "      <td>0.0</td>\n",
       "    </tr>\n",
       "    <tr>\n",
       "      <th>1</th>\n",
       "      <td>10020000001</td>\n",
       "      <td>2018</td>\n",
       "      <td>907 COMMERCE ST</td>\n",
       "      <td>HOUSTON</td>\n",
       "      <td>77002</td>\n",
       "      <td>F1</td>\n",
       "      <td>5900.05</td>\n",
       "      <td>0</td>\n",
       "      <td>0.1148</td>\n",
       "      <td>270000.0</td>\n",
       "    </tr>\n",
       "    <tr>\n",
       "      <th>2</th>\n",
       "      <td>10020000003</td>\n",
       "      <td>2018</td>\n",
       "      <td>0 COMMERCE ST</td>\n",
       "      <td>HOUSTON</td>\n",
       "      <td>77002</td>\n",
       "      <td>F1</td>\n",
       "      <td>5900.05</td>\n",
       "      <td>0</td>\n",
       "      <td>0.4160</td>\n",
       "      <td>887006.0</td>\n",
       "    </tr>\n",
       "    <tr>\n",
       "      <th>3</th>\n",
       "      <td>10020000004</td>\n",
       "      <td>2018</td>\n",
       "      <td>0 COMMERCE ST</td>\n",
       "      <td>HOUSTON</td>\n",
       "      <td>77002</td>\n",
       "      <td>F1</td>\n",
       "      <td>5900.05</td>\n",
       "      <td>0</td>\n",
       "      <td>0.2080</td>\n",
       "      <td>443503.0</td>\n",
       "    </tr>\n",
       "    <tr>\n",
       "      <th>4</th>\n",
       "      <td>10020000013</td>\n",
       "      <td>2018</td>\n",
       "      <td>921 COMMERCE ST</td>\n",
       "      <td>HOUSTON</td>\n",
       "      <td>77002</td>\n",
       "      <td>X1</td>\n",
       "      <td>5900.05</td>\n",
       "      <td>0</td>\n",
       "      <td>0.0689</td>\n",
       "      <td>0.0</td>\n",
       "    </tr>\n",
       "  </tbody>\n",
       "</table>\n",
       "</div>"
      ],
      "text/plain": [
       "       ACCOUNT  TAX_YEAR      SITE_ADDR_1 SITE_ADDR_2 SITE_ADDR_3 STATE_CLASS  \\\n",
       "0  10010000013      2018    0 COMMERCE ST     HOUSTON       77002          X1   \n",
       "1  10020000001      2018  907 COMMERCE ST     HOUSTON       77002          F1   \n",
       "2  10020000003      2018    0 COMMERCE ST     HOUSTON       77002          F1   \n",
       "3  10020000004      2018    0 COMMERCE ST     HOUSTON       77002          F1   \n",
       "4  10020000013      2018  921 COMMERCE ST     HOUSTON       77002          X1   \n",
       "\n",
       "   NEIGHBORHOOD_CODE  NEIGHBORHOOD_GROUP  ACREAGE  TOTAL_APPRAISED_VALUE  \n",
       "0            5900.05                   0   1.0200                    0.0  \n",
       "1            5900.05                   0   0.1148               270000.0  \n",
       "2            5900.05                   0   0.4160               887006.0  \n",
       "3            5900.05                   0   0.2080               443503.0  \n",
       "4            5900.05                   0   0.0689                    0.0  "
      ]
     },
     "execution_count": 14,
     "metadata": {},
     "output_type": "execute_result"
    }
   ],
   "source": [
    "#Cull real_acct_2018 to only what we need:\n",
    "relevant_fields=[\n",
    "    \"ACCOUNT\",\n",
    "    \"TAX_YEAR\",\n",
    "    \"SITE_ADDR_1\",\n",
    "    \"SITE_ADDR_2\",\n",
    "    \"SITE_ADDR_3\",\n",
    "    \"STATE_CLASS\",\n",
    "    \"NEIGHBORHOOD_CODE\",\n",
    "    \"NEIGHBORHOOD_GROUP\",\n",
    "    \"ACREAGE\",\n",
    "    \"TOTAL_APPRAISED_VALUE\"]\n",
    "\n",
    "filtered_real_acct_2018=real_account_2018.loc[:,(relevant_fields)]\n",
    "\n",
    "# convert data types so not all strings which take up too much memory\n",
    "filtered_real_acct_2018.loc[:,('ACCOUNT')]=filtered_real_acct_2018['ACCOUNT'].astype(np.int64)\n",
    "filtered_real_acct_2018.loc[:,('TAX_YEAR')]=filtered_real_acct_2018['TAX_YEAR'].astype(np.int64)\n",
    "filtered_real_acct_2018.loc[:,(\"NEIGHBORHOOD_CODE\")]=filtered_real_acct_2018[\"NEIGHBORHOOD_CODE\"].astype(np.float64)\n",
    "filtered_real_acct_2018.loc[:,(\"NEIGHBORHOOD_GROUP\")]=filtered_real_acct_2018[\"NEIGHBORHOOD_GROUP\"].astype(np.int64)\n",
    "filtered_real_acct_2018.loc[:,(\"ACREAGE\")]=filtered_real_acct_2018[\"ACREAGE\"].astype(np.float64)\n",
    "filtered_real_acct_2018.loc[:,(\"TOTAL_APPRAISED_VALUE\")]=pd.to_numeric(filtered_real_acct_2018[\"TOTAL_APPRAISED_VALUE\"],errors='coerce')\n",
    "\n",
    "\n",
    "filtered_real_acct_2018.head()"
   ]
  },
  {
   "cell_type": "code",
   "execution_count": 15,
   "metadata": {},
   "outputs": [
    {
     "name": "stdout",
     "output_type": "stream",
     "text": [
      "<class 'pandas.core.frame.DataFrame'>\n",
      "RangeIndex: 1476089 entries, 0 to 1476088\n",
      "Data columns (total 10 columns):\n",
      " #   Column                 Non-Null Count    Dtype  \n",
      "---  ------                 --------------    -----  \n",
      " 0   ACCOUNT                1476089 non-null  int64  \n",
      " 1   TAX_YEAR               1476089 non-null  int64  \n",
      " 2   SITE_ADDR_1            1476089 non-null  object \n",
      " 3   SITE_ADDR_2            1476089 non-null  object \n",
      " 4   SITE_ADDR_3            1476089 non-null  object \n",
      " 5   STATE_CLASS            1476089 non-null  object \n",
      " 6   NEIGHBORHOOD_CODE      1476089 non-null  float64\n",
      " 7   NEIGHBORHOOD_GROUP     1476089 non-null  int64  \n",
      " 8   ACREAGE                1476089 non-null  float64\n",
      " 9   TOTAL_APPRAISED_VALUE  1474953 non-null  float64\n",
      "dtypes: float64(3), int64(3), object(4)\n",
      "memory usage: 112.6+ MB\n"
     ]
    }
   ],
   "source": [
    "#Cull real_acct_2019 to only what we need:\n",
    "filtered_real_acct_2019=real_account_2019.loc[:,(relevant_fields)]\n",
    "\n",
    "# convert data types so not all strings which take up too much memory\n",
    "filtered_real_acct_2019.loc[:,('ACCOUNT')]=filtered_real_acct_2019['ACCOUNT'].astype(np.int64)\n",
    "filtered_real_acct_2019.loc[:,('TAX_YEAR')]=filtered_real_acct_2019['TAX_YEAR'].astype(np.int64)\n",
    "filtered_real_acct_2019.loc[:,(\"NEIGHBORHOOD_CODE\")]=filtered_real_acct_2019[\"NEIGHBORHOOD_CODE\"].astype(np.float64)\n",
    "filtered_real_acct_2019.loc[:,(\"NEIGHBORHOOD_GROUP\")]=filtered_real_acct_2019[\"NEIGHBORHOOD_GROUP\"].astype(np.int64)\n",
    "filtered_real_acct_2019.loc[:,(\"ACREAGE\")]=filtered_real_acct_2019[\"ACREAGE\"].astype(np.float64)\n",
    "filtered_real_acct_2019.loc[:,(\"TOTAL_APPRAISED_VALUE\")]=pd.to_numeric(filtered_real_acct_2019[\"TOTAL_APPRAISED_VALUE\"],errors='coerce')\n",
    "\n",
    "filtered_real_acct_2019.info()"
   ]
  },
  {
   "cell_type": "code",
   "execution_count": 16,
   "metadata": {},
   "outputs": [],
   "source": [
    "# Filter data to only single family residential homes use state class = A1\n",
    "single_fam_res_2018=filtered_real_acct_2018.loc[filtered_real_acct_2018[\"STATE_CLASS\"]==\"A1\"]\n",
    "single_fam_res_2019=filtered_real_acct_2019.loc[filtered_real_acct_2019[\"STATE_CLASS\"]==\"A1\"]"
   ]
  },
  {
   "cell_type": "code",
   "execution_count": 17,
   "metadata": {},
   "outputs": [],
   "source": [
    "# filter data down to just zip codes inside the loop:\n",
    "# 2018 data:\n",
    "Inner_Loop_2018=single_fam_res_2018.loc[(single_fam_res_2018[\"SITE_ADDR_3\"]== \"77002\")|\\\n",
    "                                            (single_fam_res_2018[\"SITE_ADDR_3\"]== \"77005\")|\\\n",
    "                                            (single_fam_res_2018[\"SITE_ADDR_3\"]== \"77006\")|\\\n",
    "                                            (single_fam_res_2018[\"SITE_ADDR_3\"]== \"77019\")|\\\n",
    "                                            (single_fam_res_2018[\"SITE_ADDR_3\"]== \"77025\")|\\\n",
    "                                            (single_fam_res_2018[\"SITE_ADDR_3\"]== \"77027\")|\\\n",
    "                                            (single_fam_res_2018[\"SITE_ADDR_3\"]== \"77030\")|\\\n",
    "                                            (single_fam_res_2018[\"SITE_ADDR_3\"]== \"77054\")|\\\n",
    "                                            (single_fam_res_2018[\"SITE_ADDR_3\"]== \"77098\")]\n",
    "\n",
    "# 2019 data: \n",
    "Inner_Loop_2019=single_fam_res_2019.loc[(single_fam_res_2019[\"SITE_ADDR_3\"]== \"77002\")|\\\n",
    "                                            (single_fam_res_2019[\"SITE_ADDR_3\"]== \"77005\")|\\\n",
    "                                            (single_fam_res_2019[\"SITE_ADDR_3\"]== \"77006\")|\\\n",
    "                                            (single_fam_res_2019[\"SITE_ADDR_3\"]== \"77019\")|\\\n",
    "                                            (single_fam_res_2019[\"SITE_ADDR_3\"]== \"77025\")|\\\n",
    "                                            (single_fam_res_2019[\"SITE_ADDR_3\"]== \"77027\")|\\\n",
    "                                            (single_fam_res_2019[\"SITE_ADDR_3\"]== \"77030\")|\\\n",
    "                                            (single_fam_res_2019[\"SITE_ADDR_3\"]== \"77054\")|\\\n",
    "                                            (single_fam_res_2019[\"SITE_ADDR_3\"]== \"77098\")]"
   ]
  },
  {
   "cell_type": "code",
   "execution_count": 32,
   "metadata": {},
   "outputs": [
    {
     "name": "stdout",
     "output_type": "stream",
     "text": [
      "<class 'pandas.core.frame.DataFrame'>\n",
      "Int64Index: 30699 entries, 1222 to 1432622\n",
      "Data columns (total 10 columns):\n",
      " #   Column                 Non-Null Count  Dtype  \n",
      "---  ------                 --------------  -----  \n",
      " 0   ACCOUNT                30699 non-null  int64  \n",
      " 1   TAX_YEAR               30699 non-null  int64  \n",
      " 2   SITE_ADDR_1            30699 non-null  object \n",
      " 3   SITE_ADDR_2            30699 non-null  object \n",
      " 4   SITE_ADDR_3            30699 non-null  object \n",
      " 5   STATE_CLASS            30699 non-null  object \n",
      " 6   NEIGHBORHOOD_CODE      30699 non-null  float64\n",
      " 7   NEIGHBORHOOD_GROUP     30699 non-null  int64  \n",
      " 8   ACREAGE                30699 non-null  float64\n",
      " 9   TOTAL_APPRAISED_VALUE  30699 non-null  float64\n",
      "dtypes: float64(3), int64(3), object(4)\n",
      "memory usage: 2.6+ MB\n"
     ]
    }
   ],
   "source": [
    "# drop missing data:\n",
    "Inner_Loop_2018=Inner_Loop_2018.dropna()\n",
    "Inner_Loop_2019=Inner_Loop_2019.dropna()\n",
    "Inner_Loop_2018.info()"
   ]
  },
  {
   "cell_type": "code",
   "execution_count": 39,
   "metadata": {},
   "outputs": [
    {
     "name": "stdout",
     "output_type": "stream",
     "text": [
      "<class 'pandas.core.frame.DataFrame'>\n",
      "Int64Index: 30765 entries, 1196 to 1444628\n",
      "Data columns (total 10 columns):\n",
      " #   Column                 Non-Null Count  Dtype  \n",
      "---  ------                 --------------  -----  \n",
      " 0   account                30765 non-null  int64  \n",
      " 1   tax_year               30765 non-null  int64  \n",
      " 2   site_addr_1            30765 non-null  object \n",
      " 3   site_addr_2            30765 non-null  object \n",
      " 4   site_addr_3            30765 non-null  object \n",
      " 5   state_class            30765 non-null  object \n",
      " 6   neighborhood_code      30765 non-null  float64\n",
      " 7   neighborhood_group     30765 non-null  int64  \n",
      " 8   acreage                30765 non-null  float64\n",
      " 9   total_appraised_value  30765 non-null  float64\n",
      "dtypes: float64(3), int64(3), object(4)\n",
      "memory usage: 2.6+ MB\n"
     ]
    }
   ],
   "source": [
    "# change all column names to lowercase:\n",
    "Inner_Loop_2018.columns= Inner_Loop_2018.columns.str.lower()\n",
    "Inner_Loop_2019.columns= Inner_Loop_2019.columns.str.lower()\n",
    "Inner_Loop_2019.info()\n"
   ]
  },
  {
   "cell_type": "markdown",
   "metadata": {},
   "source": [
    "2.0 Add Inner_Loop_2018 and Inner_Loop_2019 entries to Inner_Loop_Real_Acct table in database"
   ]
  },
  {
   "cell_type": "code",
   "execution_count": 69,
   "metadata": {},
   "outputs": [
    {
     "ename": "NameError",
     "evalue": "name 'username' is not defined",
     "output_type": "error",
     "traceback": [
      "\u001b[1;31m---------------------------------------------------------------------------\u001b[0m",
      "\u001b[1;31mNameError\u001b[0m                                 Traceback (most recent call last)",
      "\u001b[1;32m<ipython-input-69-833553559860>\u001b[0m in \u001b[0;36m<module>\u001b[1;34m\u001b[0m\n\u001b[0;32m      1\u001b[0m \u001b[1;31m# connect to local database:\u001b[0m\u001b[1;33m\u001b[0m\u001b[1;33m\u001b[0m\u001b[1;33m\u001b[0m\u001b[0m\n\u001b[1;32m----> 2\u001b[1;33m \u001b[0mrds_connection_string\u001b[0m \u001b[1;33m=\u001b[0m \u001b[1;34mf'{username}:{password}@localhost:5432/Houston_Real_Estate_db'\u001b[0m\u001b[1;33m\u001b[0m\u001b[1;33m\u001b[0m\u001b[0m\n\u001b[0m\u001b[0;32m      3\u001b[0m \u001b[0mengine\u001b[0m \u001b[1;33m=\u001b[0m \u001b[0mcreate_engine\u001b[0m\u001b[1;33m(\u001b[0m\u001b[1;34mf'postgresql://{rds_connection_string}'\u001b[0m\u001b[1;33m)\u001b[0m\u001b[1;33m\u001b[0m\u001b[1;33m\u001b[0m\u001b[0m\n",
      "\u001b[1;31mNameError\u001b[0m: name 'username' is not defined"
     ]
    }
   ],
   "source": [
    "# connect to local database:\n",
    "rds_connection_string = f'{username}:{password}@localhost:5432/Houston_Real_Estate_db'\n",
    "engine = create_engine(f'postgresql://{rds_connection_string}')"
   ]
  },
  {
   "cell_type": "code",
   "execution_count": 58,
   "metadata": {},
   "outputs": [
    {
     "data": {
      "text/plain": [
       "['real_acct', 'sq_ft']"
      ]
     },
     "execution_count": 58,
     "metadata": {},
     "output_type": "execute_result"
    }
   ],
   "source": [
    "# check for table names:\n",
    "engine.table_names()"
   ]
  },
  {
   "cell_type": "code",
   "execution_count": 48,
   "metadata": {},
   "outputs": [],
   "source": [
    "# Use pandas to load 2018 DataFrame into database\n",
    "Inner_Loop_2018.to_sql(name='real_acct', con=engine, if_exists='append', index=False, chunksize=10000)"
   ]
  },
  {
   "cell_type": "code",
   "execution_count": 50,
   "metadata": {},
   "outputs": [
    {
     "name": "stdout",
     "output_type": "stream",
     "text": [
      "<class 'pandas.core.frame.DataFrame'>\n",
      "RangeIndex: 30699 entries, 0 to 30698\n",
      "Data columns (total 11 columns):\n",
      " #   Column                 Non-Null Count  Dtype  \n",
      "---  ------                 --------------  -----  \n",
      " 0   id                     30699 non-null  int64  \n",
      " 1   account                30699 non-null  int64  \n",
      " 2   tax_year               30699 non-null  int64  \n",
      " 3   site_addr_1            30699 non-null  object \n",
      " 4   site_addr_2            30699 non-null  object \n",
      " 5   site_addr_3            30699 non-null  object \n",
      " 6   state_class            30699 non-null  object \n",
      " 7   neighborhood_code      30699 non-null  float64\n",
      " 8   neighborhood_group     30699 non-null  int64  \n",
      " 9   acreage                30699 non-null  float64\n",
      " 10  total_appraised_value  30699 non-null  float64\n",
      "dtypes: float64(3), int64(4), object(4)\n",
      "memory usage: 2.6+ MB\n"
     ]
    }
   ],
   "source": [
    "# confirm data has been added\n",
    "pd.read_sql_query('select * from real_acct', con=engine).info()"
   ]
  },
  {
   "cell_type": "code",
   "execution_count": 51,
   "metadata": {},
   "outputs": [],
   "source": [
    "# Use pandas to load 2019 DataFrame into database\n",
    "Inner_Loop_2019.to_sql(name='real_acct', con=engine, if_exists='append', index=False, chunksize=10000)"
   ]
  },
  {
   "cell_type": "code",
   "execution_count": 53,
   "metadata": {},
   "outputs": [
    {
     "name": "stdout",
     "output_type": "stream",
     "text": [
      "<class 'pandas.core.frame.DataFrame'>\n",
      "RangeIndex: 61464 entries, 0 to 61463\n",
      "Data columns (total 11 columns):\n",
      " #   Column                 Non-Null Count  Dtype  \n",
      "---  ------                 --------------  -----  \n",
      " 0   id                     61464 non-null  int64  \n",
      " 1   account                61464 non-null  int64  \n",
      " 2   tax_year               61464 non-null  int64  \n",
      " 3   site_addr_1            61464 non-null  object \n",
      " 4   site_addr_2            61464 non-null  object \n",
      " 5   site_addr_3            61464 non-null  object \n",
      " 6   state_class            61464 non-null  object \n",
      " 7   neighborhood_code      61464 non-null  float64\n",
      " 8   neighborhood_group     61464 non-null  int64  \n",
      " 9   acreage                61464 non-null  float64\n",
      " 10  total_appraised_value  61464 non-null  float64\n",
      "dtypes: float64(3), int64(4), object(4)\n",
      "memory usage: 5.2+ MB\n"
     ]
    }
   ],
   "source": [
    "# confirm data has been added\n",
    "pd.read_sql_query('select * from real_acct', con=engine).info()"
   ]
  },
  {
   "cell_type": "markdown",
   "metadata": {},
   "source": [
    "3.0 Extract the squarefootage data"
   ]
  },
  {
   "cell_type": "code",
   "execution_count": 54,
   "metadata": {},
   "outputs": [
    {
     "name": "stdout",
     "output_type": "stream",
     "text": [
      "Extracting one file...\n",
      "Extracting Done!\n"
     ]
    }
   ],
   "source": [
    "# GET THE RESIDENTIAL DATA CONTAINING HEAT AREA WHICH IS ACTUAL HOME SQUARE FOOTAGE:\n",
    "# define file name \n",
    "# reference: hhttps://www.simplifiedpython.net/python-zip-file-example/\n",
    "SQFT = \"Resources/building_res.zip\"\n",
    "  \n",
    "#Open the zip file in read mode\n",
    "SQFT_DATA = zipfile.ZipFile(SQFT, mode='r')\n",
    "\n",
    "print('Extracting one file...')\n",
    "SQFT_DATA.extract(\"building_res.txt\")\n",
    "\n",
    "print('Extracting Done!')\n",
    "SQFT_DATA.close()"
   ]
  },
  {
   "cell_type": "code",
   "execution_count": 55,
   "metadata": {},
   "outputs": [
    {
     "name": "stdout",
     "output_type": "stream",
     "text": [
      "<_csv.reader object at 0x0000016B0041EE80>\n"
     ]
    },
    {
     "data": {
      "text/html": [
       "<div>\n",
       "<style scoped>\n",
       "    .dataframe tbody tr th:only-of-type {\n",
       "        vertical-align: middle;\n",
       "    }\n",
       "\n",
       "    .dataframe tbody tr th {\n",
       "        vertical-align: top;\n",
       "    }\n",
       "\n",
       "    .dataframe thead th {\n",
       "        text-align: right;\n",
       "    }\n",
       "</style>\n",
       "<table border=\"1\" class=\"dataframe\">\n",
       "  <thead>\n",
       "    <tr style=\"text-align: right;\">\n",
       "      <th></th>\n",
       "      <th>ACCOUNT</th>\n",
       "      <th>USE_CODE</th>\n",
       "      <th>BUILDING_NUMBER</th>\n",
       "      <th>IMPRV_TYPE</th>\n",
       "      <th>BUILDING_STYLE_CODE</th>\n",
       "      <th>CLASS_STRUCTURE</th>\n",
       "      <th>CLASS_STRUCTURE_DESC</th>\n",
       "      <th>DEPRECIATION_VALUE</th>\n",
       "      <th>CAMA_REPLACMENT_COST</th>\n",
       "      <th>ACCRUED_DEPR_PCT</th>\n",
       "      <th>...</th>\n",
       "      <th>HEAT_AREA</th>\n",
       "      <th>GROSS_AREA</th>\n",
       "      <th>EFFECTIVE_AREA</th>\n",
       "      <th>BASE_AREA</th>\n",
       "      <th>PERIMETER</th>\n",
       "      <th>PERCENT_COMPLETE</th>\n",
       "      <th>NBHD_FACTOR</th>\n",
       "      <th>RCNLD</th>\n",
       "      <th>SIZE_INDEX</th>\n",
       "      <th>LUMP_SUM_ADJ</th>\n",
       "    </tr>\n",
       "  </thead>\n",
       "  <tbody>\n",
       "    <tr>\n",
       "      <th>225826</th>\n",
       "      <td>0770130090012</td>\n",
       "      <td>A1</td>\n",
       "      <td>1</td>\n",
       "      <td>1001</td>\n",
       "      <td>101</td>\n",
       "      <td>R</td>\n",
       "      <td>Residential</td>\n",
       "      <td>698668</td>\n",
       "      <td>785020</td>\n",
       "      <td>.890000</td>\n",
       "      <td>...</td>\n",
       "      <td>4094</td>\n",
       "      <td>5108</td>\n",
       "      <td>4319</td>\n",
       "      <td>4094</td>\n",
       "      <td>439</td>\n",
       "      <td>1.00</td>\n",
       "      <td>1.0200</td>\n",
       "      <td>684968.63</td>\n",
       "      <td>.74000</td>\n",
       "      <td>40554</td>\n",
       "    </tr>\n",
       "    <tr>\n",
       "      <th>1088955</th>\n",
       "      <td>1313210010001</td>\n",
       "      <td>A1</td>\n",
       "      <td>1</td>\n",
       "      <td>1001</td>\n",
       "      <td>101</td>\n",
       "      <td>R</td>\n",
       "      <td>Residential</td>\n",
       "      <td>99815</td>\n",
       "      <td>113426</td>\n",
       "      <td>.880000</td>\n",
       "      <td>...</td>\n",
       "      <td>1334</td>\n",
       "      <td>1394</td>\n",
       "      <td>1354</td>\n",
       "      <td>1334</td>\n",
       "      <td>162</td>\n",
       "      <td>1.00</td>\n",
       "      <td>1.1600</td>\n",
       "      <td>86047.41</td>\n",
       "      <td>.94000</td>\n",
       "      <td>8491</td>\n",
       "    </tr>\n",
       "  </tbody>\n",
       "</table>\n",
       "<p>2 rows × 31 columns</p>\n",
       "</div>"
      ],
      "text/plain": [
       "                           ACCOUNT USE_CODE BUILDING_NUMBER IMPRV_TYPE  \\\n",
       "225826   0770130090012                   A1               1       1001   \n",
       "1088955  1313210010001                   A1               1       1001   \n",
       "\n",
       "        BUILDING_STYLE_CODE CLASS_STRUCTURE CLASS_STRUCTURE_DESC  \\\n",
       "225826                 101              R            Residential   \n",
       "1088955                101              R            Residential   \n",
       "\n",
       "        DEPRECIATION_VALUE CAMA_REPLACMENT_COST ACCRUED_DEPR_PCT  ...  \\\n",
       "225826              698668               785020          .890000  ...   \n",
       "1088955              99815               113426          .880000  ...   \n",
       "\n",
       "        HEAT_AREA GROSS_AREA EFFECTIVE_AREA BASE_AREA PERIMETER  \\\n",
       "225826       4094       5108           4319      4094       439   \n",
       "1088955      1334       1394           1354      1334       162   \n",
       "\n",
       "        PERCENT_COMPLETE NBHD_FACTOR      RCNLD SIZE_INDEX LUMP_SUM_ADJ  \n",
       "225826              1.00      1.0200  684968.63     .74000        40554  \n",
       "1088955             1.00      1.1600   86047.41     .94000         8491  \n",
       "\n",
       "[2 rows x 31 columns]"
      ]
     },
     "execution_count": 55,
     "metadata": {},
     "output_type": "execute_result"
    }
   ],
   "source": [
    "# extract data from building_res.txt\n",
    "data=[]\n",
    "csv.field_size_limit(100000000)\n",
    "field_names=[\"ACCOUNT\",\"USE_CODE\", \"BUILDING_NUMBER\", \"IMPRV_TYPE\", \"BUILDING_STYLE_CODE\", \"CLASS_STRUCTURE\",\\\n",
    "                      \"CLASS_STRUCTURE_DESC\", \"DEPRECIATION_VALUE\", \"CAMA_REPLACMENT_COST\", \"ACCRUED_DEPR_PCT\",\\\n",
    "                      \"QUALITY\",\"QUALITY_DESC\", \"DATE_ERECTED\", \"EFFETIVE_DATE\", \"YR_REMODEL\",\"YR_ROLL\", \"APPRAISED_BY\",\\\n",
    "                      \"APPRAISED_DATE\", \"NOTE\", \"IMPR_SQ_FT\", \"ACTUAL_AREA\", \"HEAT_AREA\", \"GROSS_AREA\", \"EFFECTIVE_AREA\",\\\n",
    "                       \"BASE_AREA\", \"PERIMETER\", \"PERCENT_COMPLETE\",\"NBHD_FACTOR\", \"RCNLD\", \"SIZE_INDEX\", \"LUMP_SUM_ADJ\"]\n",
    "\n",
    "with open('building_res.txt','r')as txtfile:\n",
    "    csvreader=csv.reader(txtfile, delimiter = '\\t')\n",
    "    print(csvreader)\n",
    "    for row in csvreader:\n",
    "        data.append(row)\n",
    "        \n",
    "building_res_2019=pd.DataFrame(columns=field_names, data=data)\n",
    "building_res_2019.sample(2)"
   ]
  },
  {
   "cell_type": "code",
   "execution_count": 57,
   "metadata": {},
   "outputs": [
    {
     "name": "stdout",
     "output_type": "stream",
     "text": [
      "<class 'pandas.core.frame.DataFrame'>\n",
      "RangeIndex: 1192605 entries, 0 to 1192604\n",
      "Data columns (total 2 columns):\n",
      " #   Column   Non-Null Count    Dtype\n",
      "---  ------   --------------    -----\n",
      " 0   account  1192605 non-null  int64\n",
      " 1   sq_ft    1192605 non-null  int64\n",
      "dtypes: int64(2)\n",
      "memory usage: 18.2 MB\n"
     ]
    }
   ],
   "source": [
    "# Heat area is actual sq footage of home, islotate this portion of data set and reformat column names\n",
    "home_sq_ft=building_res_2019[[\"ACCOUNT\",\"HEAT_AREA\"]]\n",
    "home_sq_ft=home_sq_ft.rename(columns={\"HEAT_AREA\":\"sq_ft\"})\n",
    "home_sq_ft.loc[:,(\"sq_ft\")]=pd.to_numeric(home_sq_ft[\"sq_ft\"], errors='coerce')\n",
    "home_sq_ft.loc[:,(\"ACCOUNT\")]=pd.to_numeric(home_sq_ft[\"ACCOUNT\"], errors='coerce')\n",
    "home_sq_ft.columns= home_sq_ft.columns.str.lower()\n",
    "home_sq_ft.info()"
   ]
  },
  {
   "cell_type": "code",
   "execution_count": 61,
   "metadata": {},
   "outputs": [],
   "source": [
    "# Use pandas to load DataFrame into database\n",
    "home_sq_ft.to_sql(name='sq_ft', con=engine, if_exists='append', index=False, chunksize=10000)"
   ]
  },
  {
   "cell_type": "code",
   "execution_count": 62,
   "metadata": {},
   "outputs": [
    {
     "name": "stdout",
     "output_type": "stream",
     "text": [
      "<class 'pandas.core.frame.DataFrame'>\n",
      "RangeIndex: 1192605 entries, 0 to 1192604\n",
      "Data columns (total 3 columns):\n",
      " #   Column   Non-Null Count    Dtype  \n",
      "---  ------   --------------    -----  \n",
      " 0   id       1192605 non-null  int64  \n",
      " 1   account  1192605 non-null  int64  \n",
      " 2   sq_ft    1192605 non-null  float64\n",
      "dtypes: float64(1), int64(2)\n",
      "memory usage: 27.3 MB\n"
     ]
    }
   ],
   "source": [
    "# confirm data has been added\n",
    "pd.read_sql_query('select * from sq_ft', con=engine).info()"
   ]
  },
  {
   "cell_type": "markdown",
   "metadata": {},
   "source": [
    "3.  Neighborhood Codes from HCAD"
   ]
  },
  {
   "cell_type": "code",
   "execution_count": 64,
   "metadata": {},
   "outputs": [
    {
     "data": {
      "text/html": [
       "<div>\n",
       "<style scoped>\n",
       "    .dataframe tbody tr th:only-of-type {\n",
       "        vertical-align: middle;\n",
       "    }\n",
       "\n",
       "    .dataframe tbody tr th {\n",
       "        vertical-align: top;\n",
       "    }\n",
       "\n",
       "    .dataframe thead th {\n",
       "        text-align: right;\n",
       "    }\n",
       "</style>\n",
       "<table border=\"1\" class=\"dataframe\">\n",
       "  <thead>\n",
       "    <tr style=\"text-align: right;\">\n",
       "      <th></th>\n",
       "      <th>neighborhood_code</th>\n",
       "      <th>group_code</th>\n",
       "      <th>description</th>\n",
       "    </tr>\n",
       "  </thead>\n",
       "  <tbody>\n",
       "    <tr>\n",
       "      <th>6964</th>\n",
       "      <td>4809.07</td>\n",
       "      <td>0</td>\n",
       "      <td></td>\n",
       "    </tr>\n",
       "    <tr>\n",
       "      <th>10210</th>\n",
       "      <td>7914.25</td>\n",
       "      <td>1149</td>\n",
       "      <td>DOLIVER POINT TH</td>\n",
       "    </tr>\n",
       "    <tr>\n",
       "      <th>10628</th>\n",
       "      <td>825.00</td>\n",
       "      <td>9001</td>\n",
       "      <td>CYPRESS GARDENS</td>\n",
       "    </tr>\n",
       "    <tr>\n",
       "      <th>7321</th>\n",
       "      <td>5503.22</td>\n",
       "      <td>1852</td>\n",
       "      <td>RIVA AT THE PARK CONDO</td>\n",
       "    </tr>\n",
       "    <tr>\n",
       "      <th>4884</th>\n",
       "      <td>4606.54</td>\n",
       "      <td>0</td>\n",
       "      <td></td>\n",
       "    </tr>\n",
       "  </tbody>\n",
       "</table>\n",
       "</div>"
      ],
      "text/plain": [
       "      neighborhood_code group_code             description\n",
       "6964            4809.07          0                        \n",
       "10210           7914.25       1149        DOLIVER POINT TH\n",
       "10628            825.00       9001         CYPRESS GARDENS\n",
       "7321            5503.22       1852  RIVA AT THE PARK CONDO\n",
       "4884            4606.54          0                        "
      ]
     },
     "execution_count": 64,
     "metadata": {},
     "output_type": "execute_result"
    }
   ],
   "source": [
    "# make a datframe \n",
    "data=[]\n",
    "field_names=[\"neighborhood_code\", \"group_code\", \"description\"]\n",
    "\n",
    "with open('resources/real_neighborhood_code.txt','r')as txtfile:\n",
    "    csvreader=csv.reader(txtfile, delimiter = '\\t')\n",
    "    for row in csvreader:\n",
    "        data.append(row)\n",
    "neighborhood_code=pd.DataFrame(columns=field_names, data=data)\n",
    "neighborhood_code.sample(5)"
   ]
  },
  {
   "cell_type": "code",
   "execution_count": 65,
   "metadata": {},
   "outputs": [
    {
     "name": "stdout",
     "output_type": "stream",
     "text": [
      "<class 'pandas.core.frame.DataFrame'>\n",
      "RangeIndex: 12362 entries, 0 to 12361\n",
      "Data columns (total 3 columns):\n",
      " #   Column              Non-Null Count  Dtype  \n",
      "---  ------              --------------  -----  \n",
      " 0   neighborhood_code   12362 non-null  float64\n",
      " 1   neighborhood_group  12357 non-null  float64\n",
      " 2   neighborhood        12362 non-null  object \n",
      "dtypes: float64(2), object(1)\n",
      "memory usage: 289.9+ KB\n"
     ]
    }
   ],
   "source": [
    "neighborhood_code=neighborhood_code.rename(columns={'group_code':'neighborhood_group',\\\n",
    "                                                   'description':'neighborhood'})\n",
    "neighborhood_code['neighborhood_code']=pd.to_numeric(neighborhood_code['neighborhood_code'], errors='coerce')\n",
    "neighborhood_code['neighborhood_group']=pd.to_numeric(neighborhood_code['neighborhood_group'], errors='coerce')\n",
    "\n",
    "neighborhood_code.info()"
   ]
  },
  {
   "cell_type": "code",
   "execution_count": 66,
   "metadata": {},
   "outputs": [
    {
     "data": {
      "text/html": [
       "<div>\n",
       "<style scoped>\n",
       "    .dataframe tbody tr th:only-of-type {\n",
       "        vertical-align: middle;\n",
       "    }\n",
       "\n",
       "    .dataframe tbody tr th {\n",
       "        vertical-align: top;\n",
       "    }\n",
       "\n",
       "    .dataframe thead th {\n",
       "        text-align: right;\n",
       "    }\n",
       "</style>\n",
       "<table border=\"1\" class=\"dataframe\">\n",
       "  <thead>\n",
       "    <tr style=\"text-align: right;\">\n",
       "      <th></th>\n",
       "      <th>neighborhood_code</th>\n",
       "      <th>neighborhood_group</th>\n",
       "      <th>neighborhood</th>\n",
       "    </tr>\n",
       "  </thead>\n",
       "  <tbody>\n",
       "    <tr>\n",
       "      <th>0</th>\n",
       "      <td>0.02</td>\n",
       "      <td>1801.0</td>\n",
       "      <td>TEST CONDO NBHD</td>\n",
       "    </tr>\n",
       "    <tr>\n",
       "      <th>1</th>\n",
       "      <td>0.50</td>\n",
       "      <td>1089.0</td>\n",
       "      <td>VALUATION TEST NBHD</td>\n",
       "    </tr>\n",
       "    <tr>\n",
       "      <th>2</th>\n",
       "      <td>1.00</td>\n",
       "      <td>4026.0</td>\n",
       "      <td>SETTLERS VILLAGE 1,1R/P  &amp; 2</td>\n",
       "    </tr>\n",
       "    <tr>\n",
       "      <th>3</th>\n",
       "      <td>1.01</td>\n",
       "      <td>4025.0</td>\n",
       "      <td>SETTLERS VILLAGE SEC. 3, 3R/P, 5 ,&amp; 5 R/P</td>\n",
       "    </tr>\n",
       "    <tr>\n",
       "      <th>4</th>\n",
       "      <td>1.04</td>\n",
       "      <td>4160.0</td>\n",
       "      <td>VILLAGES ON GRANT</td>\n",
       "    </tr>\n",
       "    <tr>\n",
       "      <th>5</th>\n",
       "      <td>1.05</td>\n",
       "      <td>4025.0</td>\n",
       "      <td>LAKEVILLE SEC 1,2,4,5,6,7</td>\n",
       "    </tr>\n",
       "    <tr>\n",
       "      <th>6</th>\n",
       "      <td>1.06</td>\n",
       "      <td>4160.0</td>\n",
       "      <td>GRANT MEADOWS SEC 1,3</td>\n",
       "    </tr>\n",
       "    <tr>\n",
       "      <th>7</th>\n",
       "      <td>1.07</td>\n",
       "      <td>4160.0</td>\n",
       "      <td>GRANT MEADOWS SEC 2,4 &amp; TELGE RANCH SEC 1</td>\n",
       "    </tr>\n",
       "    <tr>\n",
       "      <th>8</th>\n",
       "      <td>1.08</td>\n",
       "      <td>4160.0</td>\n",
       "      <td>GRANT MEADOWS SEC 5</td>\n",
       "    </tr>\n",
       "    <tr>\n",
       "      <th>9</th>\n",
       "      <td>10.00</td>\n",
       "      <td>0.0</td>\n",
       "      <td>ROLLING CREEK Commercial (DO NOT REMOVE)</td>\n",
       "    </tr>\n",
       "    <tr>\n",
       "      <th>10</th>\n",
       "      <td>10.01</td>\n",
       "      <td>4139.0</td>\n",
       "      <td>ROLLING CREEK 1/GRAND OAKS</td>\n",
       "    </tr>\n",
       "    <tr>\n",
       "      <th>11</th>\n",
       "      <td>10.02</td>\n",
       "      <td>4028.0</td>\n",
       "      <td>BERKSHIRE SEC 1</td>\n",
       "    </tr>\n",
       "    <tr>\n",
       "      <th>12</th>\n",
       "      <td>10.03</td>\n",
       "      <td>4028.0</td>\n",
       "      <td>BERKSHIRE SEC 2,5,6,8</td>\n",
       "    </tr>\n",
       "    <tr>\n",
       "      <th>13</th>\n",
       "      <td>10.04</td>\n",
       "      <td>4028.0</td>\n",
       "      <td>BERKSHIRE SEC 3,4</td>\n",
       "    </tr>\n",
       "    <tr>\n",
       "      <th>14</th>\n",
       "      <td>10.05</td>\n",
       "      <td>4013.0</td>\n",
       "      <td>WHEATSTONE VILLAGE CLOVERFIELD</td>\n",
       "    </tr>\n",
       "    <tr>\n",
       "      <th>15</th>\n",
       "      <td>10.06</td>\n",
       "      <td>4028.0</td>\n",
       "      <td>BERKSHIRE SEC 7,10</td>\n",
       "    </tr>\n",
       "    <tr>\n",
       "      <th>16</th>\n",
       "      <td>10.07</td>\n",
       "      <td>4028.0</td>\n",
       "      <td>BERKSHIRE SEC 9</td>\n",
       "    </tr>\n",
       "    <tr>\n",
       "      <th>17</th>\n",
       "      <td>10.08</td>\n",
       "      <td>4028.0</td>\n",
       "      <td>BERKSHIRE PLACE SEC 1,2,3,4,5</td>\n",
       "    </tr>\n",
       "    <tr>\n",
       "      <th>18</th>\n",
       "      <td>10.10</td>\n",
       "      <td>4139.0</td>\n",
       "      <td>GRAND OAKS THE PRESERVE</td>\n",
       "    </tr>\n",
       "    <tr>\n",
       "      <th>19</th>\n",
       "      <td>10.11</td>\n",
       "      <td>4139.0</td>\n",
       "      <td>GRAND OAKS SEC 3</td>\n",
       "    </tr>\n",
       "  </tbody>\n",
       "</table>\n",
       "</div>"
      ],
      "text/plain": [
       "    neighborhood_code  neighborhood_group  \\\n",
       "0                0.02              1801.0   \n",
       "1                0.50              1089.0   \n",
       "2                1.00              4026.0   \n",
       "3                1.01              4025.0   \n",
       "4                1.04              4160.0   \n",
       "5                1.05              4025.0   \n",
       "6                1.06              4160.0   \n",
       "7                1.07              4160.0   \n",
       "8                1.08              4160.0   \n",
       "9               10.00                 0.0   \n",
       "10              10.01              4139.0   \n",
       "11              10.02              4028.0   \n",
       "12              10.03              4028.0   \n",
       "13              10.04              4028.0   \n",
       "14              10.05              4013.0   \n",
       "15              10.06              4028.0   \n",
       "16              10.07              4028.0   \n",
       "17              10.08              4028.0   \n",
       "18              10.10              4139.0   \n",
       "19              10.11              4139.0   \n",
       "\n",
       "                                 neighborhood  \n",
       "0                             TEST CONDO NBHD  \n",
       "1                         VALUATION TEST NBHD  \n",
       "2                SETTLERS VILLAGE 1,1R/P  & 2  \n",
       "3   SETTLERS VILLAGE SEC. 3, 3R/P, 5 ,& 5 R/P  \n",
       "4                           VILLAGES ON GRANT  \n",
       "5                   LAKEVILLE SEC 1,2,4,5,6,7  \n",
       "6                       GRANT MEADOWS SEC 1,3  \n",
       "7   GRANT MEADOWS SEC 2,4 & TELGE RANCH SEC 1  \n",
       "8                         GRANT MEADOWS SEC 5  \n",
       "9    ROLLING CREEK Commercial (DO NOT REMOVE)  \n",
       "10                 ROLLING CREEK 1/GRAND OAKS  \n",
       "11                            BERKSHIRE SEC 1  \n",
       "12                      BERKSHIRE SEC 2,5,6,8  \n",
       "13                          BERKSHIRE SEC 3,4  \n",
       "14             WHEATSTONE VILLAGE CLOVERFIELD  \n",
       "15                         BERKSHIRE SEC 7,10  \n",
       "16                            BERKSHIRE SEC 9  \n",
       "17              BERKSHIRE PLACE SEC 1,2,3,4,5  \n",
       "18                    GRAND OAKS THE PRESERVE  \n",
       "19                           GRAND OAKS SEC 3  "
      ]
     },
     "execution_count": 66,
     "metadata": {},
     "output_type": "execute_result"
    }
   ],
   "source": [
    "neighborhood_code.head(20)"
   ]
  },
  {
   "cell_type": "code",
   "execution_count": 67,
   "metadata": {},
   "outputs": [],
   "source": [
    "# Use pandas to load DataFrame into database\n",
    "neighborhood_code.to_sql(name='neighborhoods', con=engine, if_exists='append', index=False, chunksize=10000)"
   ]
  },
  {
   "cell_type": "code",
   "execution_count": 68,
   "metadata": {},
   "outputs": [
    {
     "name": "stdout",
     "output_type": "stream",
     "text": [
      "<class 'pandas.core.frame.DataFrame'>\n",
      "RangeIndex: 12362 entries, 0 to 12361\n",
      "Data columns (total 4 columns):\n",
      " #   Column              Non-Null Count  Dtype  \n",
      "---  ------              --------------  -----  \n",
      " 0   id                  12362 non-null  int64  \n",
      " 1   neighborhood_code   12362 non-null  float64\n",
      " 2   neighborhood_group  12357 non-null  float64\n",
      " 3   neighborhood        12362 non-null  object \n",
      "dtypes: float64(2), int64(1), object(1)\n",
      "memory usage: 386.4+ KB\n"
     ]
    }
   ],
   "source": [
    "# confirm data has been added\n",
    "pd.read_sql_query('select * from neighborhoods', con=engine).info()"
   ]
  }
 ],
 "metadata": {
  "kernelspec": {
   "display_name": "Python 3",
   "language": "python",
   "name": "python3"
  },
  "language_info": {
   "codemirror_mode": {
    "name": "ipython",
    "version": 3
   },
   "file_extension": ".py",
   "mimetype": "text/x-python",
   "name": "python",
   "nbconvert_exporter": "python",
   "pygments_lexer": "ipython3",
   "version": "3.8.3"
  }
 },
 "nbformat": 4,
 "nbformat_minor": 4
}
